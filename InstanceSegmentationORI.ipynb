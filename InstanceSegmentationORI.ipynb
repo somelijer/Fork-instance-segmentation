{
  "nbformat": 4,
  "nbformat_minor": 0,
  "metadata": {
    "colab": {
      "provenance": [],
      "gpuType": "T4",
      "authorship_tag": "ABX9TyPldiUKRn5hk13NuH6OwE9t",
      "include_colab_link": true
    },
    "kernelspec": {
      "name": "python3",
      "display_name": "Python 3"
    },
    "language_info": {
      "name": "python"
    },
    "accelerator": "GPU"
  },
  "cells": [
    {
      "cell_type": "markdown",
      "metadata": {
        "id": "view-in-github",
        "colab_type": "text"
      },
      "source": [
        "<a href=\"https://colab.research.google.com/github/somelijer/Fork-instance-segmentation/blob/main/InstanceSegmentationORI.ipynb\" target=\"_parent\"><img src=\"https://colab.research.google.com/assets/colab-badge.svg\" alt=\"Open In Colab\"/></a>"
      ]
    },
    {
      "cell_type": "markdown",
      "source": [
        "# Downloading the coco dataset"
      ],
      "metadata": {
        "id": "p-qaY2R3jb6t"
      }
    },
    {
      "cell_type": "code",
      "execution_count": null,
      "metadata": {
        "colab": {
          "base_uri": "https://localhost:8080/"
        },
        "id": "vS4XrPApi19v",
        "outputId": "83a55301-8b8e-4fe4-9c11-ba4658e95fe0"
      },
      "outputs": [
        {
          "output_type": "stream",
          "name": "stdout",
          "text": [
            "Looking in indexes: https://pypi.org/simple, https://us-python.pkg.dev/colab-wheels/public/simple/\n",
            "Collecting CocoDataset==0.1.2\n",
            "  Downloading CocoDataset-0.1.2-py3-none-any.whl (4.2 kB)\n",
            "Requirement already satisfied: pycocotools in /usr/local/lib/python3.10/dist-packages (from CocoDataset==0.1.2) (2.0.6)\n",
            "Requirement already satisfied: matplotlib>=2.1.0 in /usr/local/lib/python3.10/dist-packages (from pycocotools->CocoDataset==0.1.2) (3.7.1)\n",
            "Requirement already satisfied: numpy in /usr/local/lib/python3.10/dist-packages (from pycocotools->CocoDataset==0.1.2) (1.22.4)\n",
            "Requirement already satisfied: contourpy>=1.0.1 in /usr/local/lib/python3.10/dist-packages (from matplotlib>=2.1.0->pycocotools->CocoDataset==0.1.2) (1.0.7)\n",
            "Requirement already satisfied: cycler>=0.10 in /usr/local/lib/python3.10/dist-packages (from matplotlib>=2.1.0->pycocotools->CocoDataset==0.1.2) (0.11.0)\n",
            "Requirement already satisfied: fonttools>=4.22.0 in /usr/local/lib/python3.10/dist-packages (from matplotlib>=2.1.0->pycocotools->CocoDataset==0.1.2) (4.39.3)\n",
            "Requirement already satisfied: kiwisolver>=1.0.1 in /usr/local/lib/python3.10/dist-packages (from matplotlib>=2.1.0->pycocotools->CocoDataset==0.1.2) (1.4.4)\n",
            "Requirement already satisfied: packaging>=20.0 in /usr/local/lib/python3.10/dist-packages (from matplotlib>=2.1.0->pycocotools->CocoDataset==0.1.2) (23.1)\n",
            "Requirement already satisfied: pillow>=6.2.0 in /usr/local/lib/python3.10/dist-packages (from matplotlib>=2.1.0->pycocotools->CocoDataset==0.1.2) (8.4.0)\n",
            "Requirement already satisfied: pyparsing>=2.3.1 in /usr/local/lib/python3.10/dist-packages (from matplotlib>=2.1.0->pycocotools->CocoDataset==0.1.2) (3.0.9)\n",
            "Requirement already satisfied: python-dateutil>=2.7 in /usr/local/lib/python3.10/dist-packages (from matplotlib>=2.1.0->pycocotools->CocoDataset==0.1.2) (2.8.2)\n",
            "Requirement already satisfied: six>=1.5 in /usr/local/lib/python3.10/dist-packages (from python-dateutil>=2.7->matplotlib>=2.1.0->pycocotools->CocoDataset==0.1.2) (1.16.0)\n",
            "Installing collected packages: CocoDataset\n",
            "Successfully installed CocoDataset-0.1.2\n"
          ]
        }
      ],
      "source": [
        "!pip install CocoDataset==0.1.2"
      ]
    },
    {
      "cell_type": "code",
      "source": [
        "!wget http://images.cocodataset.org/annotations/annotations_trainval2017.zip\n",
        "!unzip /content/annotations_trainval2017.zip"
      ],
      "metadata": {
        "colab": {
          "base_uri": "https://localhost:8080/"
        },
        "id": "1zNYo8O4jnf4",
        "outputId": "460b27e5-e977-42ae-99cb-456e7322cde7"
      },
      "execution_count": null,
      "outputs": [
        {
          "output_type": "stream",
          "name": "stdout",
          "text": [
            "--2023-06-21 15:44:57--  http://images.cocodataset.org/annotations/annotations_trainval2017.zip\n",
            "Resolving images.cocodataset.org (images.cocodataset.org)... 54.231.133.153, 3.5.29.194, 54.231.204.89, ...\n",
            "Connecting to images.cocodataset.org (images.cocodataset.org)|54.231.133.153|:80... connected.\n",
            "HTTP request sent, awaiting response... 200 OK\n",
            "Length: 252907541 (241M) [application/zip]\n",
            "Saving to: ‘annotations_trainval2017.zip’\n",
            "\n",
            "annotations_trainva 100%[===================>] 241.19M  13.2MB/s    in 20s     \n",
            "\n",
            "2023-06-21 15:45:17 (12.2 MB/s) - ‘annotations_trainval2017.zip’ saved [252907541/252907541]\n",
            "\n",
            "Archive:  /content/annotations_trainval2017.zip\n",
            "  inflating: annotations/instances_train2017.json  \n",
            "  inflating: annotations/instances_val2017.json  \n",
            "  inflating: annotations/captions_train2017.json  \n",
            "  inflating: annotations/captions_val2017.json  \n",
            "  inflating: annotations/person_keypoints_train2017.json  \n",
            "  inflating: annotations/person_keypoints_val2017.json  \n"
          ]
        }
      ]
    },
    {
      "cell_type": "code",
      "source": [
        "from coco_dataset import coco_dataset_download as cocod\n",
        "class_name='fork'  #class name example\n",
        "images_count=200       #count of images\n",
        "annotations_path='/content/annotations/instances_train2017.json' #path of coco dataset annotations\n",
        "#call download function\n",
        "cocod.coco_dataset_download(class_name,images_count,annotations_path)"
      ],
      "metadata": {
        "colab": {
          "base_uri": "https://localhost:8080/"
        },
        "id": "ra2-vdxWj_-F",
        "outputId": "9a374dcf-f668-4240-bdb1-c2a00c3f2098"
      },
      "execution_count": null,
      "outputs": [
        {
          "output_type": "stream",
          "name": "stdout",
          "text": [
            "loading annotations into memory...\n",
            "Done (t=21.43s)\n",
            "creating index...\n",
            "index created!\n",
            "no.of image: 1\n",
            "no.of image: 2\n",
            "no.of image: 3\n",
            "no.of image: 4\n",
            "no.of image: 5\n",
            "no.of image: 6\n",
            "no.of image: 7\n",
            "no.of image: 8\n",
            "no.of image: 9\n",
            "no.of image: 10\n",
            "no.of image: 11\n",
            "no.of image: 12\n",
            "no.of image: 13\n",
            "no.of image: 14\n",
            "no.of image: 15\n",
            "no.of image: 16\n",
            "no.of image: 17\n",
            "no.of image: 18\n",
            "no.of image: 19\n",
            "no.of image: 20\n",
            "no.of image: 21\n",
            "no.of image: 22\n",
            "no.of image: 23\n",
            "no.of image: 24\n",
            "no.of image: 25\n",
            "no.of image: 26\n",
            "no.of image: 27\n",
            "no.of image: 28\n",
            "no.of image: 29\n",
            "no.of image: 30\n",
            "no.of image: 31\n",
            "no.of image: 32\n",
            "no.of image: 33\n",
            "no.of image: 34\n",
            "no.of image: 35\n",
            "no.of image: 36\n",
            "no.of image: 37\n",
            "no.of image: 38\n",
            "no.of image: 39\n",
            "no.of image: 40\n",
            "no.of image: 41\n",
            "no.of image: 42\n",
            "no.of image: 43\n",
            "no.of image: 44\n",
            "no.of image: 45\n",
            "no.of image: 46\n",
            "no.of image: 47\n",
            "no.of image: 48\n",
            "no.of image: 49\n",
            "no.of image: 50\n",
            "no.of image: 51\n",
            "no.of image: 52\n",
            "no.of image: 53\n",
            "no.of image: 54\n",
            "no.of image: 55\n",
            "no.of image: 56\n",
            "no.of image: 57\n",
            "no.of image: 58\n",
            "no.of image: 59\n",
            "no.of image: 60\n",
            "no.of image: 61\n",
            "no.of image: 62\n",
            "no.of image: 63\n",
            "no.of image: 64\n",
            "no.of image: 65\n",
            "no.of image: 66\n",
            "no.of image: 67\n",
            "no.of image: 68\n",
            "no.of image: 69\n",
            "no.of image: 70\n",
            "no.of image: 71\n",
            "no.of image: 72\n",
            "no.of image: 73\n",
            "no.of image: 74\n",
            "no.of image: 75\n",
            "no.of image: 76\n",
            "no.of image: 77\n",
            "no.of image: 78\n",
            "no.of image: 79\n",
            "no.of image: 80\n",
            "no.of image: 81\n",
            "no.of image: 82\n",
            "no.of image: 83\n",
            "no.of image: 84\n",
            "no.of image: 85\n",
            "no.of image: 86\n",
            "no.of image: 87\n",
            "no.of image: 88\n",
            "no.of image: 89\n",
            "no.of image: 90\n",
            "no.of image: 91\n",
            "no.of image: 92\n",
            "no.of image: 93\n",
            "no.of image: 94\n",
            "no.of image: 95\n",
            "no.of image: 96\n",
            "no.of image: 97\n",
            "no.of image: 98\n",
            "no.of image: 99\n",
            "no.of image: 100\n",
            "no.of image: 101\n",
            "no.of image: 102\n",
            "no.of image: 103\n",
            "no.of image: 104\n",
            "no.of image: 105\n",
            "no.of image: 106\n",
            "no.of image: 107\n",
            "no.of image: 108\n",
            "no.of image: 109\n",
            "no.of image: 110\n",
            "no.of image: 111\n",
            "no.of image: 112\n",
            "no.of image: 113\n",
            "no.of image: 114\n",
            "no.of image: 115\n",
            "no.of image: 116\n",
            "no.of image: 117\n",
            "no.of image: 118\n",
            "no.of image: 119\n",
            "no.of image: 120\n",
            "no.of image: 121\n",
            "no.of image: 122\n",
            "no.of image: 123\n",
            "no.of image: 124\n",
            "no.of image: 125\n",
            "no.of image: 126\n",
            "no.of image: 127\n",
            "no.of image: 128\n",
            "no.of image: 129\n",
            "no.of image: 130\n",
            "no.of image: 131\n",
            "no.of image: 132\n",
            "no.of image: 133\n",
            "no.of image: 134\n",
            "no.of image: 135\n",
            "no.of image: 136\n",
            "no.of image: 137\n",
            "no.of image: 138\n",
            "no.of image: 139\n",
            "no.of image: 140\n",
            "no.of image: 141\n",
            "no.of image: 142\n",
            "no.of image: 143\n",
            "no.of image: 144\n",
            "no.of image: 145\n",
            "no.of image: 146\n",
            "no.of image: 147\n",
            "no.of image: 148\n",
            "no.of image: 149\n",
            "no.of image: 150\n",
            "no.of image: 151\n",
            "no.of image: 152\n",
            "no.of image: 153\n",
            "no.of image: 154\n",
            "no.of image: 155\n",
            "no.of image: 156\n",
            "no.of image: 157\n",
            "no.of image: 158\n",
            "no.of image: 159\n",
            "no.of image: 160\n",
            "no.of image: 161\n",
            "no.of image: 162\n",
            "no.of image: 163\n",
            "no.of image: 164\n",
            "no.of image: 165\n",
            "no.of image: 166\n",
            "no.of image: 167\n",
            "no.of image: 168\n",
            "no.of image: 169\n",
            "no.of image: 170\n",
            "no.of image: 171\n",
            "no.of image: 172\n",
            "no.of image: 173\n",
            "no.of image: 174\n",
            "no.of image: 175\n",
            "no.of image: 176\n",
            "no.of image: 177\n",
            "no.of image: 178\n",
            "no.of image: 179\n",
            "no.of image: 180\n",
            "no.of image: 181\n",
            "no.of image: 182\n",
            "no.of image: 183\n",
            "no.of image: 184\n",
            "no.of image: 185\n",
            "no.of image: 186\n",
            "no.of image: 187\n",
            "no.of image: 188\n",
            "no.of image: 189\n",
            "no.of image: 190\n",
            "no.of image: 191\n",
            "no.of image: 192\n",
            "no.of image: 193\n",
            "no.of image: 194\n",
            "no.of image: 195\n",
            "no.of image: 196\n",
            "no.of image: 197\n",
            "no.of image: 198\n",
            "no.of image: 199\n",
            "no.of image: 200\n",
            "finished images download\n"
          ]
        }
      ]
    },
    {
      "cell_type": "markdown",
      "source": [
        "# New Section"
      ],
      "metadata": {
        "id": "MXBq6nR1wSJL"
      }
    }
  ]
}